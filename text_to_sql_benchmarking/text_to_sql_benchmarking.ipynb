{
 "nbformat": 4,
 "nbformat_minor": 0,
 "metadata": {
  "colab": {
   "provenance": []
  },
  "kernelspec": {
   "name": "python3",
   "display_name": "Python 3"
  },
  "language_info": {
   "name": "python"
  },
  "gpuClass": "standard"
 },
 "cells": [
  {
   "cell_type": "code",
   "execution_count": null,
   "metadata": {
    "id": "BdHDMhD_c2-6"
   },
   "outputs": [],
   "source": [
    "!pip install transformers"
   ]
  },
  {
   "cell_type": "code",
   "source": [
    "concert_singer_schema = '| concert_singer | stadium : stadium_id, location, name, capacity, highest, lowest, average | singer : singer_id, name, country, song_name, song_release_year, age, is_male | concert : concert_id, concert_name, theme, stadium_id, year | singer_in_concert : concert_id, singer_id'\n",
    "sales_data_schema = '| sales_data | sales: transaction_id, volume, product_id, product_price_at_the_moment_of_transaction_per_unit, datetime, customer_id | customers: customer_id, name, location | products: id, name, current_price, amount_in_stock'\n",
    "warehousing_schema = '| warehousing | warehouses : warehouse_id, location, max_storage_volume, has_temperature_control | packages : id, warehouse_id, package_volume, requires_temperature_control, stored_until_date, owner_id | owners : id, name'\n",
    "\n",
    "from enum import Enum\n",
    "\n",
    "class query_difficulty(Enum):\n",
    "    HARD = 'hard'\n",
    "    MEDIUM = 'medium'\n",
    "    EASY = 'easy'\n",
    "\n",
    "single_question_queries = [\n",
    "    (f'How many singers do we have?', concert_singer_schema, query_difficulty.EASY),\n",
    "    (f'What is the stadium with the highest capacity?', concert_singer_schema, query_difficulty.EASY),\n",
    "    (f'Which stadium can hold the most people?', concert_singer_schema, query_difficulty.EASY),\n",
    "    (f'What was the place of the latest concert?', concert_singer_schema, query_difficulty.MEDIUM),\n",
    "    (f'Where was the latest concert of Taylor Swift?', concert_singer_schema, query_difficulty.MEDIUM),\n",
    "    (f'How much money did we made in total?', sales_data_schema, query_difficulty.EASY),\n",
    "    (f'What amount of \"Lego set Technic 0254\" we sold in total?', sales_data_schema, query_difficulty.MEDIUM),\n",
    "    (f'Which client paid us the highest amount of money?', sales_data_schema, query_difficulty.MEDIUM),\n",
    "    (f'What was the most expensive thing we ever sold', sales_data_schema, query_difficulty.MEDIUM),\n",
    "    (f'What was the most expensive thing we sold in the year 2020?', sales_data_schema, query_difficulty.MEDIUM),\n",
    "    (f'What is the most spacious warehouse?', warehousing_schema, query_difficulty.EASY),\n",
    "    (f'What is the total capacity of our warehouses?', warehousing_schema, query_difficulty.EASY),\n",
    "    (f'Which packages require temperature control?', warehousing_schema, query_difficulty.EASY),\n",
    "    (f'Which packages require thermostats?', warehousing_schema, query_difficulty.EASY),\n",
    "    (f'Which packages are stored in the warehouses equipped with temperature control?', warehousing_schema, query_difficulty.MEDIUM),\n",
    "    (f'Which packages are stored in the warehouses with thermostats?', warehousing_schema, query_difficulty.MEDIUM),\n",
    "    (f'Who owns the most packages stored in our warehouses?', warehousing_schema, query_difficulty.MEDIUM),\n",
    "    (f'Who owns the most packages?', warehousing_schema, query_difficulty.MEDIUM),\n",
    "    (f'Which packages are stored in violation of temperature conditions?', warehousing_schema, query_difficulty.MEDIUM),\n",
    "]"
   ],
   "metadata": {
    "id": "38qwq5--fyMv"
   },
   "execution_count": null,
   "outputs": []
  },
  {
   "cell_type": "code",
   "source": [
    "from transformers import pipeline"
   ],
   "metadata": {
    "id": "yjTp6yQBjUs5"
   },
   "execution_count": null,
   "outputs": []
  },
  {
   "cell_type": "code",
   "source": [
    "pipe = pipeline(model=\"tscholak/cxmefzzi\")"
   ],
   "metadata": {
    "id": "gNI2fU_RkM04"
   },
   "execution_count": null,
   "outputs": []
  },
  {
   "cell_type": "code",
   "source": [
    "from tqdm import tqdm\n",
    "drive_root = '/content/drive/MyDrive/Colab/vp'\n"
   ],
   "metadata": {
    "id": "RiX7cmHOla5k"
   },
   "execution_count": null,
   "outputs": []
  },
  {
   "cell_type": "code",
   "source": [
    "with open(f'{drive_root}/text_to_sql_report.md', 'w') as report_file:\n",
    "    report_file.write(f\"## Model: T5-3B, finetuned on spider\\n\\n\")\n",
    "    results = []\n",
    "    for question, schema, difficulty in tqdm(single_question_queries):\n",
    "        result = pipe(f\"{question} {schema}\")[0]['generated_text']\n",
    "        results.append(result)\n",
    "\n",
    "        report_file.write(f\"Question [{str(difficulty.value)}]: {question}\\n\\n\")\n",
    "        report_file.write(f\"Schema: `{schema}`\\n\\n\")\n",
    "        report_file.write(f\"Response: `{result}`\\n\\n\")\n",
    "        report_file.write(f\"Is correct?: \\n\\n\")\n",
    "        report_file.write(f\"---\\n\\n\")\n",
    "        print(question, result)"
   ],
   "metadata": {
    "id": "px4jP4sg8PNa"
   },
   "execution_count": null,
   "outputs": []
  },
  {
   "cell_type": "code",
   "source": [],
   "metadata": {
    "id": "fdeh0JNfYa2o"
   },
   "execution_count": null,
   "outputs": []
  },
  {
   "cell_type": "code",
   "source": [
    "TODO: benchmark gpt"
   ],
   "metadata": {
    "id": "gKPR4mOeldx9"
   },
   "execution_count": null,
   "outputs": []
  },
  {
   "cell_type": "code",
   "source": [
    "!pip install openai"
   ],
   "metadata": {
    "id": "6eATM-FR8BVG"
   },
   "execution_count": null,
   "outputs": []
  },
  {
   "cell_type": "code",
   "source": [
    "import openai\n",
    "from time import sleep\n",
    "\n",
    "def query_openai(query: str, req_type: str, max_try: int = 3, **kwargs):\n",
    "    for _ in range(max_try):\n",
    "        try:\n",
    "            if req_type == 'search':\n",
    "                response = openai.Embedding.create(input=query, **kwargs)\n",
    "                return response['data'][0]['embedding'], response[\"usage\"][\"total_tokens\"]\n",
    "\n",
    "            if req_type == 'completion':\n",
    "                response = openai.Completion.create(prompt=query, **kwargs)\n",
    "                return response[\"choices\"][0][\"text\"], response[\"usage\"][\"total_tokens\"]\n",
    "\n",
    "            if req_type == \"edit\":\n",
    "                response = openai.Edit.create(input=query, **kwargs)\n",
    "                return response[\"choices\"][0][\"text\"], response[\"usage\"][\"total_tokens\"]\n",
    "\n",
    "            raise ValueError(f'Invalid request type: {req_type}')\n",
    "\n",
    "        except Exception as e:\n",
    "            print(\"Error in request: \", e)\n",
    "            sleep(3)\n",
    "\n",
    "    return None, None\n"
   ],
   "metadata": {
    "id": "51qfqtar8shI"
   },
   "execution_count": null,
   "outputs": []
  },
  {
   "cell_type": "code",
   "source": [
    "from getpass import getpass\n",
    "openai.api_key = getpass(prompt=\"OpenAI API key: \")"
   ],
   "metadata": {
    "id": "cfS8RZtpBc1k"
   },
   "execution_count": null,
   "outputs": []
  },
  {
   "cell_type": "code",
   "source": [
    "with open(f'{drive_root}/text_to_sql_GPT_report.md', 'w') as report_file:\n",
    "    report_file.write(f\"## Model: code-davinchi-002\\n\\n\")\n",
    "    results = []\n",
    "    for question, schema, difficulty in tqdm(single_question_queries):\n",
    "        stripped_schema = (\"|\".join(schema.split(\"|\")[2:])).lstrip()\n",
    "        \n",
    "        prompt = f'''We have a database with the following schema:\n",
    "\n",
    "{stripped_schema}\n",
    "\n",
    "As a senior analyst, given the above schema, write a detailed and correct SQLite sql query to answer the analytical question:\n",
    "\n",
    "\"{question}\"\n",
    "\n",
    "```SQL'''\n",
    "\n",
    "        response, tokens = query_openai(\n",
    "            prompt, \"completion\", max_try=2, model=\"code-davinci-002\",\n",
    "            temperature=0.0, stop=\"```\", max_tokens=256\n",
    "        )\n",
    "\n",
    "        # print(response)\n",
    "        # break\n",
    "        result = response.strip('\\n')\n",
    "        results.append(result)\n",
    "\n",
    "        report_file.write(f\"Question [{str(difficulty.value)}]: {question}\\n\\n\")\n",
    "        report_file.write(f\"Schema: `{schema}`\\n\\n\")\n",
    "        report_file.write(f\"Response: `{result}`\\n\\n\")\n",
    "        report_file.write(f\"Is correct?: \\n\\n\")\n",
    "        report_file.write(f\"---\\n\\n\")\n",
    "        print(question, result)"
   ],
   "metadata": {
    "id": "2FIEXq4l8hLW"
   },
   "execution_count": null,
   "outputs": []
  },
  {
   "cell_type": "code",
   "source": [
    "# GPT results temp\n",
    "# ['SELECT COUNT(*) FROM singer;',\n",
    "#  'SELECT name, capacity\\nFROM stadium\\nWHERE capacity = (SELECT MAX(capacity) FROM stadium)',\n",
    "#  'SELECT name, capacity\\nFROM stadium\\nORDER BY capacity DESC\\nLIMIT 1',\n",
    "#  'SELECT stadium.name\\nFROM stadium\\nINNER JOIN concert ON stadium.stadium_id = concert.stadium_id\\nWHERE concert.year = (SELECT MAX(year) FROM concert)',\n",
    "#  \"SELECT s.name, s.location, c.year\\nFROM stadium s\\nJOIN concert c ON s.stadium_id = c.stadium_id\\nJOIN singer_in_concert sc ON c.concert_id = sc.concert_id\\nJOIN singer si ON sc.singer_id = si.singer_id\\nWHERE si.name = 'Taylor Swift'\\nORDER BY c.year DESC\\nLIMIT 1\",\n",
    "#  'SELECT SUM(volume * product_price_at_the_moment_of_transaction_per_unit) AS total_revenue\\nFROM sales;',\n",
    "#  'SELECT SUM(volume)\\nFROM sales\\nWHERE product_id = (SELECT id FROM products WHERE name = \"Lego set Technic 0254\")',\n",
    "#  'SELECT customers.name, SUM(sales.volume * sales.product_price_at_the_moment_of_transaction_per_unit) AS total_amount\\nFROM sales\\nJOIN customers ON customers.customer_id = sales.customer_id\\nGROUP BY customers.name\\nORDER BY total_amount DESC\\nLIMIT 1;',\n",
    "#  'SELECT\\n  product_id,\\n  MAX(product_price_at_the_moment_of_transaction_per_unit) AS max_price\\nFROM sales\\nGROUP BY product_id\\nORDER BY max_price DESC\\nLIMIT 1;',\n",
    "#  \"SELECT product_id, MAX(product_price_at_the_moment_of_transaction_per_unit)\\nFROM sales\\nWHERE datetime BETWEEN '2020-01-01' AND '2020-12-31'\\nGROUP BY product_id\",\n",
    "#  'SELECT warehouses.warehouse_id, warehouses.location, warehouses.max_storage_volume, warehouses.has_temperature_control, SUM(packages.package_volume) AS total_volume\\nFROM warehouses\\nLEFT JOIN packages ON warehouses.warehouse_id = packages.warehouse_id\\nGROUP BY warehouses.warehouse_id\\nORDER BY total_volume DESC\\nLIMIT 1',\n",
    "#  'SELECT SUM(max_storage_volume) FROM warehouses;',\n",
    "#  'SELECT packages.id, packages.warehouse_id, packages.package_volume, packages.requires_temperature_control, packages.stored_until_date, packages.owner_id\\nFROM packages\\nINNER JOIN warehouses ON packages.warehouse_id = warehouses.warehouse_id\\nWHERE packages.requires_temperature_control = 1 AND warehouses.has_temperature_control = 1',\n",
    "#  'SELECT * FROM packages WHERE requires_temperature_control = 1;',\n",
    "#  'SELECT packages.id, packages.warehouse_id, packages.package_volume, packages.requires_temperature_control, packages.stored_until_date, packages.owner_id\\nFROM packages\\nINNER JOIN warehouses ON packages.warehouse_id = warehouses.warehouse_id\\nWHERE warehouses.has_temperature_control = 1',\n",
    "#  'SELECT packages.id, packages.warehouse_id, packages.package_volume, packages.requires_temperature_control, packages.stored_until_date, packages.owner_id\\nFROM packages\\nINNER JOIN warehouses ON packages.warehouse_id = warehouses.warehouse_id\\nWHERE warehouses.has_temperature_control = 1',\n",
    "#  'SELECT owners.name, COUNT(packages.id) AS package_count\\nFROM packages\\nJOIN owners ON packages.owner_id = owners.id\\nGROUP BY owners.name\\nORDER BY package_count DESC\\nLIMIT 1;']"
   ],
   "metadata": {
    "id": "82lHV8TVAOd0"
   },
   "execution_count": null,
   "outputs": []
  },
  {
   "cell_type": "code",
   "source": [],
   "metadata": {
    "id": "kwjYcoqJJbTV"
   },
   "execution_count": null,
   "outputs": []
  }
 ]
}
